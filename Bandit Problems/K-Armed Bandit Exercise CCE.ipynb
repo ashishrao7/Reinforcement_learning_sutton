{
 "cells": [
  {
   "cell_type": "markdown",
   "metadata": {},
   "source": [
    "# Simulating a k-armed bandit problem"
   ]
  },
  {
   "cell_type": "code",
   "execution_count": 1,
   "metadata": {
    "collapsed": true
   },
   "outputs": [],
   "source": [
    "%matplotlib inline\n",
    "import numpy as np\n",
    "import random\n",
    "import matplotlib.pyplot as plt"
   ]
  },
  {
   "cell_type": "code",
   "execution_count": 8,
   "metadata": {},
   "outputs": [],
   "source": [
    "class bandit():\n",
    "    \n",
    "    def __init__(self, k, copies):\n",
    "        \n",
    "        self.k = k\n",
    "        self.copies = copies \n",
    "        \n",
    "        # initialize all actions of the Q-function to 5\n",
    "        self.Qn = {'a'+str(action):5 for action in range(self.k)}\n",
    "        \n",
    "        # initialize all rewards to given distributions  \n",
    "        self.Rnplus1 = {'a'+str(action):k+5 for action in range(self.k)} \n",
    "        \n",
    "        # initialize number of times each action is played to zero\n",
    "        self.action_counter = {'a'+str(action):0 for action in range(self.k)}\n",
    "        \n",
    "        \n",
    "    def pull(self, **pull_args):\n",
    "        '''\n",
    "        This function pulls an arm based on the type of pulling scheme followed. E.g \n",
    "        Epsilon_greedy, upper confidence bound, etc\n",
    "\n",
    "        Parameters:\n",
    "        -----------\n",
    "        **pull_args : keyword arguments\n",
    "            This dictionary contains the pulling scheme used and the associated hyperparameters\n",
    "            used for that scheme. E.g for epsilon_greedy, **pull_args would contain \n",
    "            pull_name='epsilon_greedy' and epsilon=<float> \n",
    "            \n",
    "        Return:\n",
    "        -------\n",
    "        action_chosen : <dictionary>\n",
    "            The action which the bandit has chosen based on the pull_name\n",
    "        '''\n",
    "  \n",
    "        if pull_args['pull_rule']=='epsilon_greedy':\n",
    "            action_chosen = self.epsilon_greedy_action_chooser(pull_args['epsilon'])\n",
    "        \n",
    "        if pull_args['pull_rule']=='ucb':\n",
    "            action_chosen = self.ucb_action_chooser(pull_args['c'])\n",
    "        \n",
    "        return  action_chosen\n",
    "    \n",
    "    \n",
    "    def epsilon_greedy_action_chooser(self, epsilon):\n",
    "        '''\n",
    "        This function makes use of the epsilon greedy approach to choose an action \n",
    "        at a particular time-step. \n",
    "\n",
    "        Parameters:\n",
    "        -----------\n",
    "        epsilon : <float>\n",
    "                probability of selecting random action\n",
    "        \n",
    "        Return:\n",
    "        -------\n",
    "        action_chosen : <dictionary>\n",
    "            The action which the bandit has chosen based on the epsilon-greedy approach\n",
    "        '''\n",
    "        best_action = max(self.Qn, key=self.Qn.get)\n",
    "        if (np.random.random() > epsilon):\n",
    "            action_chosen = best_action \n",
    "        else:\n",
    "            actions = [action for action,value in self.Qn.items() if action!=best_action] \n",
    "            action_chosen = random.choice(actions)\n",
    "        return action_chosen\n",
    "\n",
    "    \n",
    "    def ucb_action_chooser(self, c):\n",
    "        '''\n",
    "        This function makes use of the upper confidence bound to choose an action \n",
    "        at a particular time-step. \n",
    "        \n",
    "        Parameters:\n",
    "        -----------\n",
    "        c : <float>\n",
    "            probability of selecting random action\n",
    "\n",
    "        Return:\n",
    "        -------\n",
    "        action_chosen : <dictionary>\n",
    "            The action which the bandit has chosen based on the upper confidence bound approach\n",
    "        ''' \n",
    "        action_value = {}\n",
    "        for action_number, Q_action in self.Qn.items():\n",
    "            if self.action_counter[action_number]!=0:\n",
    "                action_value[action_number] = Q_action+c*np.sqrt(np.log(self.t)/self.action_counter[action_number])\n",
    "            else:\n",
    "                return action_number   # return action as it has not been played out even once\n",
    "    \n",
    "        best_action = max(action_value, key=action_value.get)\n",
    "        return best_action\n",
    "    \n",
    "    \n",
    "    def update_average_reward(self, number_of_time_steps, **pull_args):\n",
    "        '''\n",
    "        This function chooses the best action for particular time step and updates the average reward of the\n",
    "        action chosen accordingly.\n",
    "        \n",
    "        Parameters:\n",
    "        -----------\n",
    "        number_of_time_step: <int>\n",
    "            The number of iterations the algorithm has to run for.\n",
    "        \n",
    "        **pull_args : keyword arguments\n",
    "            This dictionary contains the pulling scheme used and the associated hyperparameters\n",
    "            used for that scheme. E.g for epsilon_greedy, **pull_args would contain \n",
    "            pull_name='epsilon_greedy' and epsilon=<float> \n",
    "            \n",
    "        Return:\n",
    "        -------\n",
    "        average_rewards: <list>\n",
    "            Returns a list of containing the average reward obtained at each iteration\n",
    "        '''\n",
    "        self.number_of_time_steps = number_of_time_steps\n",
    "        average_rewards = list()\n",
    "        for current_time_step in range(number_of_time_steps):\n",
    "            self.t = current_time_step\n",
    "            action_chosen = self.pull(**pull_args)\n",
    "            self.action_counter[action_chosen]+=1\n",
    "            \n",
    "            #incremental update formula to find the average reward for the current time step        \n",
    "            self.Qn[action_chosen] = self.Qn[action_chosen] + 1/(current_time_step+1)*(np.random.normal(loc=self.Rnplus1[action_chosen]) - self.Qn[action_chosen])\n",
    "        \n",
    "            average_rewards.append(self.Qn[action_chosen])\n",
    "        return average_rewards\n",
    "    \n",
    "    def plot_average_reward(self, average_reward):\n",
    "        plt.title('Average Reward for {} iteration of K-armed bandit problem'.format(self.number_of_time_steps))\n",
    "        plt.xlabel('Number of time steps')\n",
    "        plt.ylabel('Average Reward')\n",
    "        plt.plot(average_reward)\n",
    "        plt.show()"
   ]
  },
  {
   "cell_type": "code",
   "execution_count": 15,
   "metadata": {},
   "outputs": [],
   "source": [
    "bandit_1 = bandit(15, 100)\n",
    "average_rewards = bandit_1.update_average_reward(number_of_time_steps=5000, pull_rule='ucb', c=0.5)"
   ]
  },
  {
   "cell_type": "code",
   "execution_count": 16,
   "metadata": {},
   "outputs": [
    {
     "data": {
      "image/png": "[encoded data removed]",
      "text/plain": [
       "<Figure size 432x288 with 1 Axes>"
      ]
     },
     "metadata": {},
     "output_type": "display_data"
    }
   ],
   "source": [
    "bandit_1.plot_average_reward(average_rewards)"
   ]
  },
  {
   "cell_type": "code",
   "execution_count": 17,
   "metadata": {},
   "outputs": [
    {
     "data": {
      "text/plain": [
       "{'a0': 19.999666431902785,\n",
       " 'a1': 13.198305037769455,\n",
       " 'a2': 10.585440215949752,\n",
       " 'a3': 8.601590340766604,\n",
       " 'a4': 7.813691822396709,\n",
       " 'a5': 7.417301938249546,\n",
       " 'a6': 7.042539720513682,\n",
       " 'a7': 6.430194642823702,\n",
       " 'a8': 6.685766692526884,\n",
       " 'a9': 6.6129094632351295,\n",
       " 'a10': 6.282269177082645,\n",
       " 'a11': 6.3068648704449295,\n",
       " 'a12': 6.233028384637413,\n",
       " 'a13': 5.900741871287959,\n",
       " 'a14': 6.013652950470876}"
      ]
     },
     "execution_count": 17,
     "metadata": {},
     "output_type": "execute_result"
    }
   ],
   "source": [
    "bandit_1.Qn"
   ]
  },
  {
   "cell_type": "code",
   "execution_count": null,
   "metadata": {
    "collapsed": true
   },
   "outputs": [],
   "source": []
  }
 ],
 "metadata": {
  "kernelspec": {
   "display_name": "Python for deeplearing",
   "language": "python",
   "name": "deeplearning"
  }
 },
 "nbformat": 4,
 "nbformat_minor": 2
}
